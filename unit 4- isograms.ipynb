{
  "nbformat": 4,
  "nbformat_minor": 0,
  "metadata": {
    "kernelspec": {
      "display_name": "Python 3",
      "language": "python",
      "name": "python3"
    },
    "language_info": {
      "codemirror_mode": {
        "name": "ipython",
        "version": 3
      },
      "file_extension": ".py",
      "mimetype": "text/x-python",
      "name": "python",
      "nbconvert_exporter": "python",
      "pygments_lexer": "ipython3",
      "version": "3.8.3"
    },
    "colab": {
      "name": "UnitChallenge4_Isograms.ipynb",
      "provenance": []
    }
  },
  "cells": [
    {
      "cell_type": "markdown",
      "metadata": {
        "id": "gZGzd6iPSw6i"
      },
      "source": [
        "# Unit Challenge #4"
      ]
    },
    {
      "cell_type": "markdown",
      "metadata": {
        "id": "1laZSKLVSw6j"
      },
      "source": [
        "An **isogram** is a word that has no repeating letters, consecutive or nonconsecutive. \n",
        "\n",
        "Create a program that checks a variable, `text`, containing a random English word, and prints a statement of either \"`text` is an isogram\"  or \"`text` is not an isogram\" depending on whether or not the word is an \"isogram\".\n",
        "\n",
        "Examples:\n",
        "\n",
        "- \"ambidextrous\" is an isogram because none of the letters repeat.\n",
        "\n",
        "- \"password\" is not an isogram because there is more than one letter 's'\n",
        "\n",
        "- \"strength\" is not an isogram because there is more than one letter 't'\n",
        "\n",
        "\n",
        "\n",
        "Things that might help:\n",
        "* Your knowledge of dictionaries\n",
        "* The use of the .lower() method (look this up in python documentation)\n",
        "* The use of for-loops and conditionals\n",
        "* The use of boolean values (True or False)\n"
      ]
    },
    {
      "cell_type": "code",
      "metadata": {
        "id": "6LFRE_mfSw6k"
      },
      "source": [
        "#This cell will hold the text you are checking\n",
        "#text = \"Apple\"\n",
        "#More examples (uncomment the following to test them out):\n",
        "#text = \"math\"\n",
        "#text = \"igloo\"\n",
        "#text = \"I\""
      ],
      "execution_count": null,
      "outputs": []
    },
    {
      "cell_type": "code",
      "metadata": {
        "colab": {
          "base_uri": "https://localhost:8080/"
        },
        "id": "bzh_Z0Y0Sw6l",
        "outputId": "24157f57-b7de-43f6-a97a-4327819207c2"
      },
      "source": [
        "#Code goes here\n",
        "\n",
        "text = text.lower()\n",
        "letter_list = []\n",
        "repeating_list =[]\n",
        " \n",
        "for i in text:\n",
        "  if i.isalpha():\n",
        "    if i in letter_list:\n",
        "      repeating_list.append(i)\n",
        "    else: \n",
        "      letter_list.append(i)\n",
        "\n",
        "if len(letter_list) == len(text):\n",
        "  print(text, \"is an isogram\")\n",
        "else:\n",
        "  print(text, \"is not an isogram\")"
      ],
      "execution_count": null,
      "outputs": [
        {
          "output_type": "stream",
          "text": [
            "i is an isogram\n"
          ],
          "name": "stdout"
        }
      ]
    },
    {
      "cell_type": "markdown",
      "metadata": {
        "id": "ubaeoUJ2Sw6m"
      },
      "source": [
        "Now use your knowledge of functions to change the above code into a function named `isogramChecker`!"
      ]
    },
    {
      "cell_type": "code",
      "metadata": {
        "colab": {
          "base_uri": "https://localhost:8080/"
        },
        "id": "6sclNQUOSw6m",
        "outputId": "e0519978-03e8-4176-be5d-ccf6be8f7fc2"
      },
      "source": [
        "#Function definition goes here\n",
        "\n",
        "word = input(\"type a word with no spaces:\")\n",
        "\n",
        "def isogramchecker(word):\n",
        "\n",
        "    text = word.lower()\n",
        "    letter_list = []\n",
        " \n",
        "    for letter in text:\n",
        "        if letter.isalpha():\n",
        "            if letter in letter_list:\n",
        "                return False\n",
        "            letter_list.append(letter)\n",
        " \n",
        "    return True\n",
        "\n",
        "print(\"it is\", isogramchecker(word), \"that\", word, \"is an isogram\")\n"
      ],
      "execution_count": null,
      "outputs": [
        {
          "output_type": "stream",
          "text": [
            "type a word with no spaces:hello\n",
            "it is False that hello is an isogram\n"
          ],
          "name": "stdout"
        }
      ]
    }
  ]
}