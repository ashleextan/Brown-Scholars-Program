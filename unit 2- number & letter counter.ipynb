{
  "nbformat": 4,
  "nbformat_minor": 0,
  "metadata": {
    "kernelspec": {
      "display_name": "Python 3",
      "language": "python",
      "name": "python3"
    },
    "language_info": {
      "codemirror_mode": {
        "name": "ipython",
        "version": 3
      },
      "file_extension": ".py",
      "mimetype": "text/x-python",
      "name": "python",
      "nbconvert_exporter": "python",
      "pygments_lexer": "ipython3",
      "version": "3.7.6"
    },
    "colab": {
      "name": "WeeklyChallenge2_NumberLetterCounter.ipynb",
      "provenance": []
    }
  },
  "cells": [
    {
      "cell_type": "markdown",
      "metadata": {
        "id": "jLuc66NSmq8T"
      },
      "source": [
        "# Weekly Challenge #2\n",
        "\n",
        "Use a **for loop** and **conditionals** to write a Python program that checks out a string and calculates the number of letters and numbers inside it. \n",
        "\n",
        "Use two methods to help you:\n",
        "* .isdigit() is a method that checks whether a string is a number and returns true if it is\n",
        "* .isalpha() is a method that checks whether a string is a letter in the alphabet and returns true if it is"
      ]
    },
    {
      "cell_type": "code",
      "metadata": {
        "colab": {
          "base_uri": "https://localhost:8080/"
        },
        "id": "V1SXQNsDmq8V",
        "outputId": "e2a7da49-6268-475f-d3cc-24f9f455a040"
      },
      "source": [
        "operator = input(\"String (with no spaces): \")\n",
        "\n",
        "letters = 0\n",
        "numbers = 0\n",
        "\n",
        "for i in operator:\n",
        "  if i.isdigit():\n",
        "    numbers= numbers+ 1\n",
        "  elif i.isalpha(): \n",
        "    letters= letters+ 1\n",
        "\n",
        "print (\"This string has \" + str(letters) + \" letters in it.\")\n",
        "print (\"This string has \" + str(numbers) + \" numbers in it. \")"
      ],
      "execution_count": 1,
      "outputs": [
        {
          "output_type": "stream",
          "text": [
            "String (with no spaces): hello123\n",
            "This string has 5 letters in it.\n",
            "This string has 3 numbers in it. \n"
          ],
          "name": "stdout"
        }
      ]
    }
  ]
}