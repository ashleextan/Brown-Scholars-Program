{
  "nbformat": 4,
  "nbformat_minor": 0,
  "metadata": {
    "kernelspec": {
      "display_name": "Python 3",
      "language": "python",
      "name": "python3"
    },
    "language_info": {
      "codemirror_mode": {
        "name": "ipython",
        "version": 3
      },
      "file_extension": ".py",
      "mimetype": "text/x-python",
      "name": "python",
      "nbconvert_exporter": "python",
      "pygments_lexer": "ipython3",
      "version": "3.8.3"
    },
    "colab": {
      "name": "Unit4_FinalProject.ipynb",
      "provenance": []
    }
  },
  "cells": [
    {
      "cell_type": "markdown",
      "metadata": {
        "id": "0zUFK4q9rylv"
      },
      "source": [
        "# Unit 4 Final Projects: Calculating evolutionary distance\n",
        "\n",
        "In this notebook you will compare the sequence of a particular gene from 3 different species to find out which two are most closely related. \n",
        "\n",
        "You will need to do the following:\n",
        "1. Open and read in your files\n",
        "2. Decide which sequences to compare (DNA, RNA, or protein), (you may have to look at all of them)\n",
        "3. Write code that prints out the percent similarity of each pair of sequences\n",
        "\n",
        "Note: Percent similarity can be taken by the following formula: `similarites * 100 / length of the shortest sequence`\n",
        " "
      ]
    },
    {
      "cell_type": "code",
      "metadata": {
        "colab": {
          "base_uri": "https://localhost:8080/"
        },
        "id": "rrVNm5Mwtn4e",
        "outputId": "a097b1ff-7611-4a1b-e3b8-2421a6ea6386"
      },
      "source": [
        "from google.colab import drive\n",
        "drive.mount('/content/drive')"
      ],
      "execution_count": null,
      "outputs": [
        {
          "output_type": "stream",
          "text": [
            "Mounted at /content/drive\n"
          ],
          "name": "stdout"
        }
      ]
    },
    {
      "cell_type": "code",
      "metadata": {
        "collapsed": true,
        "id": "eH6czFAGrylz"
      },
      "source": [
        "a1 = open(\"/content/drive/MyDrive/Grade 11.5/BridgeUP/Datasets/1a_CSN2_DNA.txt\").read()"
      ],
      "execution_count": null,
      "outputs": []
    },
    {
      "cell_type": "code",
      "metadata": {
        "collapsed": true,
        "id": "M7xIxaVyrylz"
      },
      "source": [
        "b1 = open(\"/content/drive/MyDrive/Grade 11.5/BridgeUP/Datasets/1b_CSN2_DNA.txt\").read()"
      ],
      "execution_count": null,
      "outputs": []
    },
    {
      "cell_type": "code",
      "metadata": {
        "collapsed": true,
        "id": "NlmUE0blrylz"
      },
      "source": [
        "c1 =open(\"/content/drive/MyDrive/Grade 11.5/BridgeUP/Datasets/1c_CSN2_DNA.txt\").read()"
      ],
      "execution_count": null,
      "outputs": []
    },
    {
      "cell_type": "code",
      "metadata": {
        "colab": {
          "base_uri": "https://localhost:8080/"
        },
        "id": "GUpiRlhE9xyC",
        "outputId": "afdbe9bd-5f1a-4a16-d96a-25b9b087260b"
      },
      "source": [
        "print(len(a1))\n",
        "print(len(b1))\n",
        "print(len(c1))"
      ],
      "execution_count": null,
      "outputs": [
        {
          "output_type": "stream",
          "text": [
            "281\n",
            "280\n",
            "282\n"
          ],
          "name": "stdout"
        }
      ]
    },
    {
      "cell_type": "markdown",
      "metadata": {
        "id": "tMiGA1yiwj_L"
      },
      "source": [
        "Hippo and Whale"
      ]
    },
    {
      "cell_type": "code",
      "metadata": {
        "colab": {
          "base_uri": "https://localhost:8080/"
        },
        "id": "0b564H1GyN-g",
        "outputId": "ad581863-ad6a-4c45-9d2e-e4fea734b625"
      },
      "source": [
        "differences1 = 0\n",
        "similarities1 = 0\n",
        "for c, i in enumerate(b1):\n",
        "  if a1[c] != i: \n",
        "    differences1 += 1\n",
        "  else:\n",
        "    similarities1 += 1\n",
        "totalSimilarities1 = (similarities1 * 100) / len(b1)\n",
        "\n",
        "print(differences1)\n",
        "print(totalSimilarities1)"
      ],
      "execution_count": null,
      "outputs": [
        {
          "output_type": "stream",
          "text": [
            "135\n",
            "51.785714285714285\n"
          ],
          "name": "stdout"
        }
      ]
    },
    {
      "cell_type": "markdown",
      "metadata": {
        "id": "KNzcgUm_wn43"
      },
      "source": [
        "Whale and Wild Boar"
      ]
    },
    {
      "cell_type": "code",
      "metadata": {
        "colab": {
          "base_uri": "https://localhost:8080/"
        },
        "id": "MjIPi_SqwvXp",
        "outputId": "10ee5489-16b3-4648-832e-d1fda9958a97"
      },
      "source": [
        "differences2 = 0\n",
        "similarities2 = 0\n",
        "for c, i in enumerate(b1):\n",
        "  if c1[c] != i: \n",
        "    differences2 += 1\n",
        "  else:\n",
        "    similarities2 += 1\n",
        "totalSimilarities2 = (similarities2 * 100) / len(b1)\n",
        "\n",
        "print(differences2)\n",
        "print(totalSimilarities2)"
      ],
      "execution_count": null,
      "outputs": [
        {
          "output_type": "stream",
          "text": [
            "211\n",
            "24.642857142857142\n"
          ],
          "name": "stdout"
        }
      ]
    },
    {
      "cell_type": "markdown",
      "metadata": {
        "id": "eWA__Y2cwtaW"
      },
      "source": [
        "Hippo and Wild Boar"
      ]
    },
    {
      "cell_type": "code",
      "metadata": {
        "colab": {
          "base_uri": "https://localhost:8080/"
        },
        "id": "BecDYqy_wylw",
        "outputId": "60407619-bc7d-48ce-a245-ddf83f117e03"
      },
      "source": [
        "differences3 = 0\n",
        "similarities3 = 0\n",
        "for c, i in enumerate(a1):\n",
        "  if c1[c] != i: \n",
        "    differences3 += 1\n",
        "  else:\n",
        "    similarities3 += 1\n",
        "totalSimilarities3 = (similarities3 * 100) / len(a1)\n",
        "\n",
        "print(differences3)\n",
        "print(totalSimilarities3)"
      ],
      "execution_count": null,
      "outputs": [
        {
          "output_type": "stream",
          "text": [
            "211\n",
            "24.91103202846975\n"
          ],
          "name": "stdout"
        }
      ]
    },
    {
      "cell_type": "markdown",
      "metadata": {
        "id": "baXgG9N_ryl0"
      },
      "source": [
        "## Bonus Challenge\n",
        "\n",
        "Visualize your results! Choose a graph type that you think will communicate your conclusions effectively and create it using matplotlib:"
      ]
    },
    {
      "cell_type": "code",
      "metadata": {
        "colab": {
          "base_uri": "https://localhost:8080/",
          "height": 295
        },
        "id": "S7385E4Jryl0",
        "outputId": "88eea013-04c3-45c3-c665-71316eb8ce4f"
      },
      "source": [
        "import matplotlib.pyplot as plt\n",
        "\n",
        "height = [totalSimilarities1,totalSimilarities2,totalSimilarities3]\n",
        "bars = (\"Hippo & Whale\", \"Whale & Boar\", \"Hippo & Boar\")\n",
        "\n",
        "plt.bar(bars, height)\n",
        "\n",
        "plt.xlabel(\"Animals being Compared\")\n",
        "plt.ylabel(\"Total Similarity Percentage\")\n",
        "plt.title(\"Percentage Similarity between Animals\")\n",
        "\n",
        "plt.show()"
      ],
      "execution_count": null,
      "outputs": [
        {
          "output_type": "display_data",
          "data": {
            "image/png": "[encoded data removed]",
            "text/plain": [
              "<Figure size 432x288 with 1 Axes>"
            ]
          },
          "metadata": {
            "tags": [],
            "needs_background": "light"
          }
        }
      ]
    },
    {
      "cell_type": "markdown",
      "metadata": {
        "id": "eYdwc-OFryl1"
      },
      "source": [
        "## Bonus Challenge 2\n",
        "If you finish your project and want to try a challenge, come up with a hypothesis about which of the following species are most closely related to humans (carp, chicken, chimp, dog, eel, elephant, frog, gorilla, macaque monkey, mouse, orangutan, pig). Write out a ranked list with the species you think is most related to humans at the top.\n",
        "\n",
        "Then calculate the percent difference between the hemoglobin amino acid sequences of humans and each species to find out how close you came to the right ranking!"
      ]
    },
    {
      "cell_type": "markdown",
      "metadata": {
        "id": "weD-Tb9eqv4G"
      },
      "source": [
        "Loading in the Files"
      ]
    },
    {
      "cell_type": "code",
      "metadata": {
        "id": "A0KbF58iqyW6"
      },
      "source": [
        "human = open(\"/content/drive/MyDrive/Grade 11.5/BridgeUP/Datasets/Human_hemoglobin.txt\").read()\n",
        "carp = open(\"/content/drive/MyDrive/Grade 11.5/BridgeUP/Datasets/Carp_hemoglobin.txt\").read()\n",
        "chicken = open(\"/content/drive/MyDrive/Grade 11.5/BridgeUP/Datasets/Chicken_hemoglobin.txt\").read()\n",
        "chimp = open(\"/content/drive/MyDrive/Grade 11.5/BridgeUP/Datasets/Chimp_hemoglobin.txt\").read()\n",
        "dog = open(\"/content/drive/MyDrive/Grade 11.5/BridgeUP/Datasets/Dog_hemoglobin.txt\").read()\n",
        "eel = open(\"/content/drive/MyDrive/Grade 11.5/BridgeUP/Datasets/Eel_hemoglobin.txt\").read()\n",
        "elephant = open(\"/content/drive/MyDrive/Grade 11.5/BridgeUP/Datasets/Elephant_hemoglobin.txt\").read()\n",
        "frog = open(\"/content/drive/MyDrive/Grade 11.5/BridgeUP/Datasets/Frog_hemoglobin.txt\").read()\n",
        "gorilla = open(\"/content/drive/MyDrive/Grade 11.5/BridgeUP/Datasets/Gorilla_hemoglobin.txt\").read()\n",
        "macaque= open(\"/content/drive/MyDrive/Grade 11.5/BridgeUP/Datasets/Macaque_hemoglobin.txt\").read()\n",
        "mouse =  open(\"/content/drive/MyDrive/Grade 11.5/BridgeUP/Datasets/Mouse_hemoglobin.txt\").read()\n",
        "orangutan =  open(\"/content/drive/MyDrive/Grade 11.5/BridgeUP/Datasets/Orangutan_hemoglobin.txt\").read()\n",
        "pig =  open(\"/content/drive/MyDrive/Grade 11.5/BridgeUP/Datasets/Pig_hemoglobin.txt\").read()"
      ],
      "execution_count": null,
      "outputs": []
    },
    {
      "cell_type": "markdown",
      "metadata": {
        "id": "HynPhbq8qy2Y"
      },
      "source": [
        "Human and Carp"
      ]
    },
    {
      "cell_type": "code",
      "metadata": {
        "collapsed": true,
        "id": "cnksZqGFryl2",
        "colab": {
          "base_uri": "https://localhost:8080/"
        },
        "outputId": "070f623a-1c72-40ae-a8d2-bd8e6a318f2c"
      },
      "source": [
        "print(len(human))\n",
        "print(len(carp))\n",
        "\n",
        "differences4 = 0\n",
        "similarities4 = 0\n",
        "for c, i in enumerate(human):\n",
        "  if carp[c] != i: \n",
        "    differences4 += 1\n",
        "  else:\n",
        "    similarities4 += 1\n",
        "totalDifferences4 = (differences4 * 100) / len(human)\n",
        "\n",
        "print(differences4)\n",
        "print(totalDifferences4)"
      ],
      "execution_count": null,
      "outputs": [
        {
          "output_type": "stream",
          "text": [
            "141\n",
            "142\n",
            "111\n",
            "78.72340425531915\n"
          ],
          "name": "stdout"
        }
      ]
    },
    {
      "cell_type": "markdown",
      "metadata": {
        "id": "lf__i-2PuBbq"
      },
      "source": [
        "Human and Chicken"
      ]
    },
    {
      "cell_type": "code",
      "metadata": {
        "colab": {
          "base_uri": "https://localhost:8080/"
        },
        "id": "kEAqFK2wuEDa",
        "outputId": "37078974-7686-4548-da1c-f8f5d9f2e332"
      },
      "source": [
        "print(len(human))\n",
        "print(len(chicken))\n",
        "\n",
        "differences5 = 0\n",
        "similarities5 = 0\n",
        "for c, i in enumerate(human):\n",
        "  if chicken[c] != i: \n",
        "    differences5 += 1\n",
        "  else:\n",
        "    similarities5 += 1\n",
        "totalDifferences5 = (differences5 * 100) / len(human)\n",
        "\n",
        "print(differences5)\n",
        "print(totalDifferences5)"
      ],
      "execution_count": null,
      "outputs": [
        {
          "output_type": "stream",
          "text": [
            "141\n",
            "141\n",
            "42\n",
            "29.78723404255319\n"
          ],
          "name": "stdout"
        }
      ]
    },
    {
      "cell_type": "markdown",
      "metadata": {
        "id": "XQd9iLNVuPKq"
      },
      "source": [
        "Human and Chimp"
      ]
    },
    {
      "cell_type": "code",
      "metadata": {
        "colab": {
          "base_uri": "https://localhost:8080/"
        },
        "id": "NiZ_6lUfuRng",
        "outputId": "9d5843d3-ecca-404c-ea70-13142d7f2d96"
      },
      "source": [
        "print(len(human))\n",
        "print(len(chimp))\n",
        "\n",
        "differences6 = 0\n",
        "similarities6 = 0\n",
        "for c, i in enumerate(human):\n",
        "  if chimp[c] != i: \n",
        "    differences6 += 1\n",
        "  else:\n",
        "    similarities6 += 1\n",
        "totalDifferences6 = (differences6 * 100) / len(human)\n",
        "\n",
        "print(differences6)\n",
        "print(totalDifferences6)"
      ],
      "execution_count": null,
      "outputs": [
        {
          "output_type": "stream",
          "text": [
            "141\n",
            "141\n",
            "0\n",
            "0.0\n"
          ],
          "name": "stdout"
        }
      ]
    },
    {
      "cell_type": "markdown",
      "metadata": {
        "id": "-RcvhebUuecq"
      },
      "source": [
        "Human and Dog"
      ]
    },
    {
      "cell_type": "code",
      "metadata": {
        "colab": {
          "base_uri": "https://localhost:8080/"
        },
        "id": "T8AkTSLYuhd5",
        "outputId": "8573d5e1-6404-4968-99bf-f3140f1a1d36"
      },
      "source": [
        "print(len(human))\n",
        "print(len(dog))\n",
        "\n",
        "differences7 = 0\n",
        "similarities7 = 0\n",
        "for c, i in enumerate(human):\n",
        "  if dog[c] != i: \n",
        "    differences7 += 1\n",
        "  else:\n",
        "    similarities7 += 1\n",
        "totalDifferences7 = (differences7 * 100) / len(human)\n",
        "\n",
        "print(differences7)\n",
        "print(totalDifferences7)"
      ],
      "execution_count": null,
      "outputs": [
        {
          "output_type": "stream",
          "text": [
            "141\n",
            "141\n",
            "23\n",
            "16.31205673758865\n"
          ],
          "name": "stdout"
        }
      ]
    },
    {
      "cell_type": "markdown",
      "metadata": {
        "id": "DgU1WaVLut6l"
      },
      "source": [
        "Human and Eel"
      ]
    },
    {
      "cell_type": "code",
      "metadata": {
        "colab": {
          "base_uri": "https://localhost:8080/"
        },
        "id": "Dt9xw36WuyYW",
        "outputId": "ac193e16-236e-43be-8302-7dbc3f9076d2"
      },
      "source": [
        "print(len(human))\n",
        "print(len(eel))\n",
        "\n",
        "differences8 = 0\n",
        "similarities8 = 0\n",
        "for c, i in enumerate(human):\n",
        "  if eel[c] != i: \n",
        "    differences8 += 1\n",
        "  else:\n",
        "    similarities8 += 1\n",
        "totalDifferences8 = (differences8 * 100) / len(human)\n",
        "\n",
        "print(differences8)\n",
        "print(totalDifferences8)"
      ],
      "execution_count": null,
      "outputs": [
        {
          "output_type": "stream",
          "text": [
            "141\n",
            "142\n",
            "113\n",
            "80.1418439716312\n"
          ],
          "name": "stdout"
        }
      ]
    },
    {
      "cell_type": "markdown",
      "metadata": {
        "id": "6BbR69hyu-7X"
      },
      "source": [
        "Human and Elephant "
      ]
    },
    {
      "cell_type": "code",
      "metadata": {
        "colab": {
          "base_uri": "https://localhost:8080/"
        },
        "id": "KE832N4YvTKz",
        "outputId": "f73fd9a8-11f6-4354-f8c8-d7c7a34de6de"
      },
      "source": [
        "print(len(human))\n",
        "print(len(elephant))\n",
        "\n",
        "differences9 = 0\n",
        "similarities9 = 0\n",
        "for c, i in enumerate(human):\n",
        "  if elephant[c] != i: \n",
        "    differences9 += 1\n",
        "  else:\n",
        "    similarities9 += 1\n",
        "totalDifferences9 = (differences9 * 100) / len(human)\n",
        "\n",
        "print(differences9)\n",
        "print(totalDifferences9)"
      ],
      "execution_count": null,
      "outputs": [
        {
          "output_type": "stream",
          "text": [
            "141\n",
            "141\n",
            "24\n",
            "17.02127659574468\n"
          ],
          "name": "stdout"
        }
      ]
    },
    {
      "cell_type": "markdown",
      "metadata": {
        "id": "H8OefVEEvgv0"
      },
      "source": [
        "Human and Frog"
      ]
    },
    {
      "cell_type": "code",
      "metadata": {
        "colab": {
          "base_uri": "https://localhost:8080/"
        },
        "id": "LL_Jl8I2wBXW",
        "outputId": "455ac1a5-76b1-4ec2-9acb-5a12e829eeac"
      },
      "source": [
        "print(len(human))\n",
        "print(len(frog))\n",
        "\n",
        "differences10 = 0\n",
        "similarities10 = 0\n",
        "for c, i in enumerate(human):\n",
        "  if frog[c] != i: \n",
        "    differences10 += 1\n",
        "  else:\n",
        "    similarities10 += 1\n",
        "totalDifferences10 = (differences10 * 100) / len(human)\n",
        "\n",
        "print(differences10)\n",
        "print(totalDifferences10)"
      ],
      "execution_count": null,
      "outputs": [
        {
          "output_type": "stream",
          "text": [
            "141\n",
            "141\n",
            "60\n",
            "42.5531914893617\n"
          ],
          "name": "stdout"
        }
      ]
    },
    {
      "cell_type": "markdown",
      "metadata": {
        "id": "KUlqDIouvj81"
      },
      "source": [
        "Human and Gorilla "
      ]
    },
    {
      "cell_type": "code",
      "metadata": {
        "colab": {
          "base_uri": "https://localhost:8080/"
        },
        "id": "_pmIJI61wB2W",
        "outputId": "8c68bdc0-f6a9-4892-ce5b-cef7d336ef08"
      },
      "source": [
        "print(len(human))\n",
        "print(len(gorilla))\n",
        "\n",
        "differences11 = 0\n",
        "similarities11 = 0\n",
        "for c, i in enumerate(human):\n",
        "  if gorilla[c] != i: \n",
        "    differences11 += 1\n",
        "  else:\n",
        "    similarities11 += 1\n",
        "totalDifferences11 = (differences11 * 100) / len(human)\n",
        "\n",
        "print(differences11)\n",
        "print(totalDifferences11)"
      ],
      "execution_count": null,
      "outputs": [
        {
          "output_type": "stream",
          "text": [
            "141\n",
            "141\n",
            "1\n",
            "0.7092198581560284\n"
          ],
          "name": "stdout"
        }
      ]
    },
    {
      "cell_type": "markdown",
      "metadata": {
        "id": "BpGH1rWLvlmF"
      },
      "source": [
        "Human and Macaque"
      ]
    },
    {
      "cell_type": "code",
      "metadata": {
        "colab": {
          "base_uri": "https://localhost:8080/"
        },
        "id": "5f3DatIUvscn",
        "outputId": "ddaf9dc4-66a0-48de-afa8-680d80390d0e"
      },
      "source": [
        " print(len(human))\n",
        "print(len(macaque))\n",
        "\n",
        "differences12 = 0\n",
        "similarities12 = 0\n",
        "for c, i in enumerate(human):\n",
        "  if macaque[c] != i: \n",
        "    differences12 += 1\n",
        "  else:\n",
        "    similarities12 += 1\n",
        "totalDifferences12 = (differences12 * 100) / len(human)\n",
        "\n",
        "print(differences12)\n",
        "print(totalDifferences12)"
      ],
      "execution_count": null,
      "outputs": [
        {
          "output_type": "stream",
          "text": [
            "141\n",
            "141\n",
            "5\n",
            "3.5460992907801416\n"
          ],
          "name": "stdout"
        }
      ]
    },
    {
      "cell_type": "markdown",
      "metadata": {
        "id": "jJ-RUy4evuHy"
      },
      "source": [
        "Human and Mouse "
      ]
    },
    {
      "cell_type": "code",
      "metadata": {
        "colab": {
          "base_uri": "https://localhost:8080/"
        },
        "id": "3SsQWFYcwCtx",
        "outputId": "4049eba7-beb7-466c-a9d8-6855b5a2c36c"
      },
      "source": [
        "print(len(human))\n",
        "print(len(mouse))\n",
        "\n",
        "differences13 = 0\n",
        "similarities13 = 0\n",
        "for c, i in enumerate(human):\n",
        "  if mouse[c] != i: \n",
        "    differences13 += 1\n",
        "  else:\n",
        "    similarities13 += 1\n",
        "totalDifferences13 = (differences13 * 100) / len(human)\n",
        "\n",
        "print(differences13)\n",
        "print(totalDifferences13)"
      ],
      "execution_count": null,
      "outputs": [
        {
          "output_type": "stream",
          "text": [
            "141\n",
            "141\n",
            "20\n",
            "14.184397163120567\n"
          ],
          "name": "stdout"
        }
      ]
    },
    {
      "cell_type": "markdown",
      "metadata": {
        "id": "LgxT8BwIvv5P"
      },
      "source": [
        "Human and Orangutan"
      ]
    },
    {
      "cell_type": "code",
      "metadata": {
        "colab": {
          "base_uri": "https://localhost:8080/"
        },
        "id": "dtQsUbzawDSQ",
        "outputId": "8d252f05-ca58-4067-edaa-6b7d5508ad22"
      },
      "source": [
        "print(len(human))\n",
        "print(len(orangutan))\n",
        "\n",
        "differences14 = 0\n",
        "similarities14 = 0\n",
        "for c, i in enumerate(human):\n",
        "  if orangutan[c] != i: \n",
        "    differences14 += 1\n",
        "  else:\n",
        "    similarities14 += 1\n",
        "totalDifferences14 = (differences14 * 100) / len(human)\n",
        "\n",
        "print(differences14)\n",
        "print(totalDifferences14)"
      ],
      "execution_count": null,
      "outputs": [
        {
          "output_type": "stream",
          "text": [
            "141\n",
            "141\n",
            "3\n",
            "2.127659574468085\n"
          ],
          "name": "stdout"
        }
      ]
    },
    {
      "cell_type": "markdown",
      "metadata": {
        "id": "VB6-1I7Uv3NR"
      },
      "source": [
        "Human and Pig"
      ]
    },
    {
      "cell_type": "code",
      "metadata": {
        "colab": {
          "base_uri": "https://localhost:8080/"
        },
        "id": "_naPW-6KwDzG",
        "outputId": "3c2cfae8-f784-4141-a1bd-d9c6f76dbf4c"
      },
      "source": [
        "print(len(human))\n",
        "print(len(pig))\n",
        "\n",
        "differences15 = 0\n",
        "similarities15 = 0\n",
        "for c, i in enumerate(human):\n",
        "  if pig[c] != i: \n",
        "    differences15 += 1\n",
        "  else:\n",
        "    similarities15 += 1\n",
        "totalDifferences15 = (differences15 * 100) / len(human)\n",
        "\n",
        "print(differences15)\n",
        "print(totalDifferences15)"
      ],
      "execution_count": null,
      "outputs": [
        {
          "output_type": "stream",
          "text": [
            "141\n",
            "141\n",
            "22\n",
            "15.602836879432624\n"
          ],
          "name": "stdout"
        }
      ]
    },
    {
      "cell_type": "markdown",
      "metadata": {
        "id": "-txnA6bzw4os"
      },
      "source": [
        "Graph"
      ]
    },
    {
      "cell_type": "code",
      "metadata": {
        "colab": {
          "base_uri": "https://localhost:8080/",
          "height": 422
        },
        "id": "GOHzWpjww5wQ",
        "outputId": "d7a6a857-95e6-41be-f77b-70d082132f32"
      },
      "source": [
        "import matplotlib.pyplot as plt\n",
        "\n",
        "height = [totalDifferences4, totalDifferences5, totalDifferences6, totalDifferences7,\n",
        "          totalDifferences8, totalDifferences9, totalDifferences10, totalDifferences11, totalDifferences12, \n",
        "          totalDifferences13, totalDifferences14, totalDifferences15]\n",
        "bars = (\"Human & Carp\", \"Human & Chicken\", \"Human & Chimp\", \"Human & Dog\", \"Human & Eel\", \n",
        "        \"Human & Elephant\", \"Human & Frog\", \"Human & Gorilla\", \"Human & Macaque Monkey\", \"Human & Mouse\", \n",
        "        \"Human & Orangutan\", \"Human & Pig\")\n",
        "\n",
        "\n",
        "plt.bar(bars,height)\n",
        "plt.xticks(rotation=90)\n",
        "\n",
        "plt.xlabel(\"Animals being Compared\")\n",
        "plt.ylabel(\"Total Difference Percentage\")\n",
        "plt.title(\"Percentage Difference between Animals\")\n",
        "\n",
        "plt.show()"
      ],
      "execution_count": null,
      "outputs": [
        {
          "output_type": "display_data",
          "data": {
            "image/png": "[encoded data removed]",
            "text/plain": [
              "<Figure size 432x288 with 1 Axes>"
            ]
          },
          "metadata": {
            "tags": [],
            "needs_background": "light"
          }
        }
      ]
    }
  ]
}