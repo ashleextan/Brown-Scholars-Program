{
  "nbformat": 4,
  "nbformat_minor": 0,
  "metadata": {
    "kernelspec": {
      "display_name": "Python 3",
      "language": "python",
      "name": "python3"
    },
    "language_info": {
      "codemirror_mode": {
        "name": "ipython",
        "version": 3
      },
      "file_extension": ".py",
      "mimetype": "text/x-python",
      "name": "python",
      "nbconvert_exporter": "python",
      "pygments_lexer": "ipython3",
      "version": "3.7.6"
    },
    "colab": {
      "name": "WeeklyChallenge3_SmallestPositiveInteger.ipynb",
      "provenance": []
    }
  },
  "cells": [
    {
      "cell_type": "markdown",
      "metadata": {
        "id": "OaexbumT92-l"
      },
      "source": [
        "# Weekly Challenge #3"
      ]
    },
    {
      "cell_type": "markdown",
      "metadata": {
        "id": "pFZ_1Zpx92-m"
      },
      "source": [
        "\n",
        "Write a program that, when given a list of integers, prints the first missing positive integer. In other words, find the lowest positive integer (greater than 0) that does not exist in the list. The list can contain duplicates and negative numbers as well.\n",
        "\n",
        "For example, if a list is [3, 4, -1, 1], the program should print 2. If a list is [1, 2, 0], the program should print 3."
      ]
    },
    {
      "cell_type": "code",
      "metadata": {
        "id": "zCHE4NmP92-n"
      },
      "source": [
        "#This list contains random integers.\n",
        "#It will be used by the program written in the next cell.\n",
        "intList = [3, 4, -1, 1] # looking for 2\n",
        "#Feel free to change the numbers in the list to test if your program works.\n",
        "\n",
        "#Some more test-cases commented out:\n",
        "#intList = [-5, -10, -2, -4] looking for 1 \n",
        "#intList = [-4, -9, 1, 4, 5, 0, 4, 2] looking for 3"
      ],
      "execution_count": null,
      "outputs": []
    },
    {
      "cell_type": "code",
      "metadata": {
        "colab": {
          "base_uri": "https://localhost:8080/"
        },
        "id": "KoHoiyIW92-o",
        "outputId": "5a13cee5-5ee8-4326-c603-b4d74456b702"
      },
      "source": [
        "intList = [3, 4, -1, 1]\n",
        "positiveList=[]\n",
        "negativeList=[]\n",
        "count = 0 \n",
        "answer=[]\n",
        "\n",
        "intList.sort()\n",
        "\n",
        "for i in intList:\n",
        "  if i >= 1:\n",
        "    positiveList.append(i)\n",
        "  if i<=0: \n",
        "    negativeList.append(i)\n",
        "  \n",
        "for i in positiveList:\n",
        "  count += 1 \n",
        "  if i != count:\n",
        "    answer.append(count)\n",
        "    print(answer[0])\n",
        "    break\n",
        "\n",
        "if len(positiveList)==0:\n",
        "  print(1)\n"
      ],
      "execution_count": null,
      "outputs": [
        {
          "output_type": "stream",
          "text": [
            "2\n"
          ],
          "name": "stdout"
        }
      ]
    }
  ]
}