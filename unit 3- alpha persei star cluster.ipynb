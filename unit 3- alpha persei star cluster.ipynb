{
  "nbformat": 4,
  "nbformat_minor": 0,
  "metadata": {
    "colab": {
      "name": "Unit3_FinalProject.ipynb",
      "provenance": [],
      "collapsed_sections": []
    },
    "kernelspec": {
      "display_name": "Python 3",
      "language": "python",
      "name": "python3"
    },
    "language_info": {
      "codemirror_mode": {
        "name": "ipython",
        "version": 3
      },
      "file_extension": ".py",
      "mimetype": "text/x-python",
      "name": "python",
      "nbconvert_exporter": "python",
      "pygments_lexer": "ipython3",
      "version": "3.8.3"
    }
  },
  "cells": [
    {
      "cell_type": "markdown",
      "metadata": {
        "id": "-aDkg8IYpfxS"
      },
      "source": [
        "# Making a CMD for your Star Cluster\n",
        "\n",
        "This notebook introduces a few commands that you'll need to make the Color Magnitude Diagram for your star cluster. You can also use the cells below to write code for your unit project."
      ]
    },
    {
      "cell_type": "markdown",
      "metadata": {
        "id": "cdlCFoIYpfxT"
      },
      "source": [
        "## .loc[ ] indexing"
      ]
    },
    {
      "cell_type": "code",
      "metadata": {
        "id": "CcUJ8BQFpfxU"
      },
      "source": [
        "import pandas as pd"
      ],
      "execution_count": null,
      "outputs": []
    },
    {
      "cell_type": "code",
      "metadata": {
        "colab": {
          "base_uri": "https://localhost:8080/",
          "height": 266
        },
        "id": "1Wo4VNL8pfxX",
        "outputId": "3877d919-f98f-4ccf-f338-bb7c2c349ca8"
      },
      "source": [
        "# Here we create a sample dataframe\n",
        "sample_df = pd.DataFrame({\"Smartphone\": [\"iPhone 11\", \"Samsung Galaxy S20\", \"Google Pixel 4\", \"LG V60\", \"Nokia 9\", \"Sony Xperia 1\", \"iPhone SE\"], \"Price\": [700,1000,800,700,450,1000,399]})\n",
        "sample_df"
      ],
      "execution_count": null,
      "outputs": [
        {
          "output_type": "execute_result",
          "data": {
            "text/html": [
              "<div>\n",
              "<style scoped>\n",
              "    .dataframe tbody tr th:only-of-type {\n",
              "        vertical-align: middle;\n",
              "    }\n",
              "\n",
              "    .dataframe tbody tr th {\n",
              "        vertical-align: top;\n",
              "    }\n",
              "\n",
              "    .dataframe thead th {\n",
              "        text-align: right;\n",
              "    }\n",
              "</style>\n",
              "<table border=\"1\" class=\"dataframe\">\n",
              "  <thead>\n",
              "    <tr style=\"text-align: right;\">\n",
              "      <th></th>\n",
              "      <th>Smartphone</th>\n",
              "      <th>Price</th>\n",
              "    </tr>\n",
              "  </thead>\n",
              "  <tbody>\n",
              "    <tr>\n",
              "      <th>0</th>\n",
              "      <td>iPhone 11</td>\n",
              "      <td>700</td>\n",
              "    </tr>\n",
              "    <tr>\n",
              "      <th>1</th>\n",
              "      <td>Samsung Galaxy S20</td>\n",
              "      <td>1000</td>\n",
              "    </tr>\n",
              "    <tr>\n",
              "      <th>2</th>\n",
              "      <td>Google Pixel 4</td>\n",
              "      <td>800</td>\n",
              "    </tr>\n",
              "    <tr>\n",
              "      <th>3</th>\n",
              "      <td>LG V60</td>\n",
              "      <td>700</td>\n",
              "    </tr>\n",
              "    <tr>\n",
              "      <th>4</th>\n",
              "      <td>Nokia 9</td>\n",
              "      <td>450</td>\n",
              "    </tr>\n",
              "    <tr>\n",
              "      <th>5</th>\n",
              "      <td>Sony Xperia 1</td>\n",
              "      <td>1000</td>\n",
              "    </tr>\n",
              "    <tr>\n",
              "      <th>6</th>\n",
              "      <td>iPhone SE</td>\n",
              "      <td>399</td>\n",
              "    </tr>\n",
              "  </tbody>\n",
              "</table>\n",
              "</div>"
            ],
            "text/plain": [
              "           Smartphone  Price\n",
              "0           iPhone 11    700\n",
              "1  Samsung Galaxy S20   1000\n",
              "2      Google Pixel 4    800\n",
              "3              LG V60    700\n",
              "4             Nokia 9    450\n",
              "5       Sony Xperia 1   1000\n",
              "6           iPhone SE    399"
            ]
          },
          "metadata": {
            "tags": []
          },
          "execution_count": 2
        }
      ]
    },
    {
      "cell_type": "markdown",
      "metadata": {
        "id": "MPN4-t4upfxa"
      },
      "source": [
        "You can use the .loc index method to select all the items in one column which have a particular value in the second column. For example, we may want to select all items from the \"Smartphone\" column that have a value of 700 in the \"Price\" column.\n",
        "\n",
        "\n",
        "Follow along with the **live coding activity** to see how this works."
      ]
    },
    {
      "cell_type": "code",
      "metadata": {
        "colab": {
          "base_uri": "https://localhost:8080/"
        },
        "id": "fu9h0yPKpfxb",
        "outputId": "14a80dfd-281e-4287-9942-f1ad8ffa7b67"
      },
      "source": [
        "# This code selects all values from the first column, \"Smartphone\" where the value on that same row in the second column, \"Price\" is equal to 700\n",
        "sample_df[\"Smartphone\"].loc[sample_df[\"Price\"]==700]"
      ],
      "execution_count": null,
      "outputs": [
        {
          "output_type": "execute_result",
          "data": {
            "text/plain": [
              "0    iPhone 11\n",
              "3       LG V60\n",
              "Name: Smartphone, dtype: object"
            ]
          },
          "metadata": {
            "tags": []
          },
          "execution_count": 6
        }
      ]
    },
    {
      "cell_type": "markdown",
      "metadata": {
        "id": "CIYEkA3Wpfxd"
      },
      "source": [
        "Now you try! Let's say you want to view some more expensive phones. Select all the values from the \"Smartphone\" column where the value on that same row in the \"Price\" column is equal to 1000."
      ]
    },
    {
      "cell_type": "code",
      "metadata": {
        "colab": {
          "base_uri": "https://localhost:8080/"
        },
        "id": "O0PvGdTNpfxd",
        "outputId": "c8939b74-4358-49b1-cc50-115e7726f26b"
      },
      "source": [
        "sample_df[\"Smartphone\"].loc[sample_df[\"Price\"]==1000]"
      ],
      "execution_count": null,
      "outputs": [
        {
          "output_type": "execute_result",
          "data": {
            "text/plain": [
              "1    Samsung Galaxy S20\n",
              "5         Sony Xperia 1\n",
              "Name: Smartphone, dtype: object"
            ]
          },
          "metadata": {
            "tags": []
          },
          "execution_count": 7
        }
      ]
    },
    {
      "cell_type": "markdown",
      "metadata": {
        "id": "jzvDK1QEpfxg"
      },
      "source": [
        "Let's say you definitely want an iPhone of some sort, but you want to see just iPhone prices. Now select all the values from the \"Price\" column where the value on that same row in the \"Smartphone\" column contains the word \"iPhone\"."
      ]
    },
    {
      "cell_type": "code",
      "metadata": {
        "colab": {
          "base_uri": "https://localhost:8080/"
        },
        "id": "bqiRqwcXpfxg",
        "outputId": "278f59eb-b659-415a-e535-f023e90e43fd"
      },
      "source": [
        "sample_df[\"Price\"].loc[sample_df[\"Smartphone\"].str.contains(\"iPhone\")]"
      ],
      "execution_count": null,
      "outputs": [
        {
          "output_type": "execute_result",
          "data": {
            "text/plain": [
              "0    700\n",
              "6    399\n",
              "Name: Price, dtype: int64"
            ]
          },
          "metadata": {
            "tags": []
          },
          "execution_count": 11
        }
      ]
    },
    {
      "cell_type": "markdown",
      "metadata": {
        "id": "uMfMtB_zpr3h"
      },
      "source": [
        "Let's say you're on a budget and don't want to spend more than $700 on a phone. Select all the values from the \"Smartphone\" column where the value on that same row in the \"Price\" column is less than or equal to 700."
      ]
    },
    {
      "cell_type": "code",
      "metadata": {
        "colab": {
          "base_uri": "https://localhost:8080/"
        },
        "id": "7TGx3Hxopq8Z",
        "outputId": "23503d56-e56c-47c6-d48e-6477f20cba41"
      },
      "source": [
        "sample_df[\"Smartphone\"].loc[sample_df[\"Price\"]<=700]"
      ],
      "execution_count": null,
      "outputs": [
        {
          "output_type": "execute_result",
          "data": {
            "text/plain": [
              "0    iPhone 11\n",
              "3       LG V60\n",
              "4      Nokia 9\n",
              "6    iPhone SE\n",
              "Name: Smartphone, dtype: object"
            ]
          },
          "metadata": {
            "tags": []
          },
          "execution_count": 12
        }
      ]
    },
    {
      "cell_type": "markdown",
      "metadata": {
        "id": "utqMyj5_pfxj"
      },
      "source": [
        "#### Note: You can store these selected values in a variable, just like you've done with entire columns!"
      ]
    },
    {
      "cell_type": "markdown",
      "metadata": {
        "id": "GP9SqxKvpfxj"
      },
      "source": [
        "## Finding absolute magnitude"
      ]
    },
    {
      "cell_type": "markdown",
      "metadata": {
        "id": "JjPICJkepfxj"
      },
      "source": [
        "You will need to convert \"G\" to absolute magnitude for your CMD.\n",
        "\n",
        "Look in the dataset for distance. Using G and distance, you can calculate absolute magnitude using the following equation:\n",
        "\n",
        "absolute magnitude = G - 5 * log(distance) + 5"
      ]
    },
    {
      "cell_type": "code",
      "metadata": {
        "id": "7xrdzzqdpfxk"
      },
      "source": [
        "# You will need to import numpy\n",
        "import numpy as np\n",
        "import matplotlib.colors as mpl # We'll use the matplotlib.colors library to color our data points\n",
        "%matplotlib inline \n",
        "import matplotlib.pyplot as plt\n",
        "import pandas as pd\n",
        "\n"
      ],
      "execution_count": null,
      "outputs": []
    },
    {
      "cell_type": "code",
      "metadata": {
        "colab": {
          "base_uri": "https://localhost:8080/"
        },
        "id": "_11KBn7Epfxn",
        "outputId": "d41a50ec-bbf5-4332-bb7e-80c24ffc02b3"
      },
      "source": [
        "# You can use this function in your code to find the log of distance:\n",
        "\n",
        "# np.log10()\n",
        "np.log(10)"
      ],
      "execution_count": null,
      "outputs": [
        {
          "output_type": "execute_result",
          "data": {
            "text/plain": [
              "2.302585092994046"
            ]
          },
          "metadata": {
            "tags": []
          },
          "execution_count": 14
        }
      ]
    },
    {
      "cell_type": "markdown",
      "metadata": {
        "id": "66bzd67ipfxp"
      },
      "source": [
        "### Your first task is to create a Color Magnitude Diagram for your star cluster\n",
        "You can use as many of the cells below as you need. You can add new cells with the \"+\" button."
      ]
    },
    {
      "cell_type": "code",
      "metadata": {
        "colab": {
          "base_uri": "https://localhost:8080/"
        },
        "id": "tPXOoaoNtB3S",
        "outputId": "8eb8f990-882c-4a18-dc26-60de18a2335c"
      },
      "source": [
        "from google.colab import drive\n",
        "drive.mount('/content/drive')"
      ],
      "execution_count": null,
      "outputs": [
        {
          "output_type": "stream",
          "text": [
            "Mounted at /content/drive\n"
          ],
          "name": "stdout"
        }
      ]
    },
    {
      "cell_type": "code",
      "metadata": {
        "id": "NASmTxRTpfxu"
      },
      "source": [
        "df= pd.read_csv(\"/content/drive/MyDrive/Grade 11.5/BridgeUP/Datasets/oh_table.csv\")"
      ],
      "execution_count": null,
      "outputs": []
    },
    {
      "cell_type": "code",
      "metadata": {
        "colab": {
          "base_uri": "https://localhost:8080/",
          "height": 394
        },
        "id": "WkL3pYhOpfxw",
        "outputId": "72cbacc8-f015-4f5c-c1e7-2719872b33c7"
      },
      "source": [
        "df.head()"
      ],
      "execution_count": null,
      "outputs": [
        {
          "output_type": "execute_result",
          "data": {
            "text/html": [
              "<div>\n",
              "<style scoped>\n",
              "    .dataframe tbody tr th:only-of-type {\n",
              "        vertical-align: middle;\n",
              "    }\n",
              "\n",
              "    .dataframe tbody tr th {\n",
              "        vertical-align: top;\n",
              "    }\n",
              "\n",
              "    .dataframe thead th {\n",
              "        text-align: right;\n",
              "    }\n",
              "</style>\n",
              "<table border=\"1\" class=\"dataframe\">\n",
              "  <thead>\n",
              "    <tr style=\"text-align: right;\">\n",
              "      <th></th>\n",
              "      <th>row_id</th>\n",
              "      <th>tgas_source_id</th>\n",
              "      <th>name</th>\n",
              "      <th>ra</th>\n",
              "      <th>dec</th>\n",
              "      <th>parallax</th>\n",
              "      <th>distance</th>\n",
              "      <th>G</th>\n",
              "      <th>J</th>\n",
              "      <th>rave_obs_id</th>\n",
              "      <th>rv</th>\n",
              "      <th>erv</th>\n",
              "      <th>group_id</th>\n",
              "      <th>group_size</th>\n",
              "    </tr>\n",
              "  </thead>\n",
              "  <tbody>\n",
              "    <tr>\n",
              "      <th>0</th>\n",
              "      <td>659</td>\n",
              "      <td>49809491645958528</td>\n",
              "      <td>TYC 1253-388-1</td>\n",
              "      <td>59.457281</td>\n",
              "      <td>18.562195</td>\n",
              "      <td>7.7395</td>\n",
              "      <td>129.949</td>\n",
              "      <td>11.160</td>\n",
              "      <td>9.984</td>\n",
              "      <td>NaN</td>\n",
              "      <td>NaN</td>\n",
              "      <td>NaN</td>\n",
              "      <td>0</td>\n",
              "      <td>151</td>\n",
              "    </tr>\n",
              "    <tr>\n",
              "      <th>1</th>\n",
              "      <td>1559</td>\n",
              "      <td>66939848447027584</td>\n",
              "      <td>TYC 1804-1924-1</td>\n",
              "      <td>57.070387</td>\n",
              "      <td>25.214932</td>\n",
              "      <td>7.6087</td>\n",
              "      <td>132.557</td>\n",
              "      <td>9.066</td>\n",
              "      <td>8.137</td>\n",
              "      <td>20120109_0346p23_140</td>\n",
              "      <td>2.95</td>\n",
              "      <td>1.6</td>\n",
              "      <td>0</td>\n",
              "      <td>151</td>\n",
              "    </tr>\n",
              "    <tr>\n",
              "      <th>2</th>\n",
              "      <td>1904</td>\n",
              "      <td>50905051903831680</td>\n",
              "      <td>HIP 18091</td>\n",
              "      <td>58.003444</td>\n",
              "      <td>19.596690</td>\n",
              "      <td>6.7611</td>\n",
              "      <td>148.752</td>\n",
              "      <td>10.265</td>\n",
              "      <td>9.267</td>\n",
              "      <td>NaN</td>\n",
              "      <td>NaN</td>\n",
              "      <td>NaN</td>\n",
              "      <td>0</td>\n",
              "      <td>151</td>\n",
              "    </tr>\n",
              "    <tr>\n",
              "      <th>3</th>\n",
              "      <td>1929</td>\n",
              "      <td>51452746133437696</td>\n",
              "      <td>HIP 18544</td>\n",
              "      <td>59.507154</td>\n",
              "      <td>20.676596</td>\n",
              "      <td>7.6989</td>\n",
              "      <td>131.839</td>\n",
              "      <td>9.249</td>\n",
              "      <td>8.436</td>\n",
              "      <td>NaN</td>\n",
              "      <td>NaN</td>\n",
              "      <td>NaN</td>\n",
              "      <td>0</td>\n",
              "      <td>151</td>\n",
              "    </tr>\n",
              "    <tr>\n",
              "      <th>4</th>\n",
              "      <td>1944</td>\n",
              "      <td>51619115986889472</td>\n",
              "      <td>TYC 1261-1630-1</td>\n",
              "      <td>58.370320</td>\n",
              "      <td>20.907178</td>\n",
              "      <td>7.4847</td>\n",
              "      <td>134.194</td>\n",
              "      <td>11.553</td>\n",
              "      <td>10.096</td>\n",
              "      <td>NaN</td>\n",
              "      <td>NaN</td>\n",
              "      <td>NaN</td>\n",
              "      <td>0</td>\n",
              "      <td>151</td>\n",
              "    </tr>\n",
              "  </tbody>\n",
              "</table>\n",
              "</div>"
            ],
            "text/plain": [
              "   row_id     tgas_source_id             name  ...  erv  group_id  group_size\n",
              "0     659  49809491645958528   TYC 1253-388-1  ...  NaN         0         151\n",
              "1    1559  66939848447027584  TYC 1804-1924-1  ...  1.6         0         151\n",
              "2    1904  50905051903831680        HIP 18091  ...  NaN         0         151\n",
              "3    1929  51452746133437696        HIP 18544  ...  NaN         0         151\n",
              "4    1944  51619115986889472  TYC 1261-1630-1  ...  NaN         0         151\n",
              "\n",
              "[5 rows x 14 columns]"
            ]
          },
          "metadata": {
            "tags": []
          },
          "execution_count": 17
        }
      ]
    },
    {
      "cell_type": "code",
      "metadata": {
        "id": "EWaGv109pfxy"
      },
      "source": [
        "d= df[\"distance\"].loc[df[\"group_id\"]==1]\n",
        "g= df[\"G\"].loc[df[\"group_id\"]==1]\n",
        "j= df[\"J\"].loc[df[\"group_id\"]==1]\n",
        "color= g-j"
      ],
      "execution_count": null,
      "outputs": []
    },
    {
      "cell_type": "code",
      "metadata": {
        "id": "BhmpitgKpfx0"
      },
      "source": [
        "absMag = g-5 * np.log10(d)+5"
      ],
      "execution_count": null,
      "outputs": []
    },
    {
      "cell_type": "code",
      "metadata": {
        "colab": {
          "base_uri": "https://localhost:8080/"
        },
        "id": "bwPmbBIYwd6w",
        "outputId": "eb23ad02-a143-4f80-9e0d-479353d2481c"
      },
      "source": [
        "print(dist)"
      ],
      "execution_count": null,
      "outputs": [
        {
          "output_type": "stream",
          "text": [
            "0        129.949\n",
            "1        132.557\n",
            "2        148.752\n",
            "3        131.839\n",
            "4        134.194\n",
            "          ...   \n",
            "10601    121.164\n",
            "10602    107.850\n",
            "10603     98.435\n",
            "10604    197.926\n",
            "10605    196.432\n",
            "Name: distance, Length: 10606, dtype: float64\n"
          ],
          "name": "stdout"
        }
      ]
    },
    {
      "cell_type": "code",
      "metadata": {
        "colab": {
          "base_uri": "https://localhost:8080/",
          "height": 295
        },
        "id": "OxxH7DkU3fmB",
        "outputId": "2ab0f55b-48fa-4144-f051-9edb13c559a7"
      },
      "source": [
        "plt.scatter(color,absMag, c=color)\n",
        "plt.ylim([-2,10])\n",
        "plt.xlim([-0.5,2.5])\n",
        "plt.gca().invert_xaxis()\n",
        "plt.xlabel('color (g-j)')\n",
        "plt.ylabel('absolute magnititude (g)')\n",
        "plt.title('color magnitude diagram')\n",
        "plt.show()"
      ],
      "execution_count": null,
      "outputs": [
        {
          "output_type": "display_data",
          "data": {
            "image/png": "[encoded data removed]",
            "text/plain": [
              "<Figure size 432x288 with 1 Axes>"
            ]
          },
          "metadata": {
            "tags": [],
            "needs_background": "light"
          }
        }
      ]
    },
    {
      "cell_type": "markdown",
      "metadata": {
        "id": "BgLYth7Xpfx4"
      },
      "source": [
        "### Coding Challenge 1: Add the sun to your color magnitude diagram"
      ]
    },
    {
      "cell_type": "code",
      "metadata": {
        "id": "RQsK-g7AlgPr"
      },
      "source": [
        "sunG= 5.12\n",
        "sunJ= 3.64"
      ],
      "execution_count": null,
      "outputs": []
    },
    {
      "cell_type": "code",
      "metadata": {
        "colab": {
          "base_uri": "https://localhost:8080/",
          "height": 295
        },
        "id": "LlroU_R9pfx4",
        "outputId": "cf373a3b-a912-440e-950e-cfb36eb76429"
      },
      "source": [
        "plt.scatter(color,absMag, c=color)\n",
        "plt.ylim([-2,10])\n",
        "plt.xlim([-0.5,2.5])\n",
        "plt.scatter(sunG-sunJ, sunG, c=\"magenta\", s=200, marker='*') \n",
        "plt.gca().invert_xaxis()\n",
        "plt.xlabel('color (g-j)')\n",
        "plt.ylabel('absolute magnititude (g)')\n",
        "plt.title('color magnitude diagram')\n",
        "plt.show()"
      ],
      "execution_count": null,
      "outputs": [
        {
          "output_type": "display_data",
          "data": {
            "image/png": "[encoded data removed]",
            "text/plain": [
              "<Figure size 432x288 with 1 Axes>"
            ]
          },
          "metadata": {
            "tags": [],
            "needs_background": "light"
          }
        }
      ]
    },
    {
      "cell_type": "markdown",
      "metadata": {
        "id": "_tG61iyepfx6"
      },
      "source": [
        "### Coding Challenge 2: Add a colormap to your diagram"
      ]
    },
    {
      "cell_type": "code",
      "metadata": {
        "colab": {
          "base_uri": "https://localhost:8080/",
          "height": 295
        },
        "id": "M-_pH6SLpfx7",
        "outputId": "3d92f8a1-92cc-40ff-e9b1-8d33f3070646"
      },
      "source": [
        "cm = plt.cm.get_cmap(\"RdYlGn_r\")\n",
        "plt.scatter(color,absMag, c=color, cmap=cm, norm=mpl.LogNorm())\n",
        "plt.scatter(sunG-sunJ, sunG, c=\"magenta\", s=200, marker='*') \n",
        "plt.ylim([-2,10])\n",
        "plt.xlim([-0.5,2.5])\n",
        "plt.gca().invert_xaxis()\n",
        "plt.xlabel('color (g-j)')\n",
        "plt.ylabel('absolute magnititude (g)')\n",
        "plt.title('color magnitude diagram')\n",
        "plt.show()"
      ],
      "execution_count": null,
      "outputs": [
        {
          "output_type": "display_data",
          "data": {
            "image/png": "[encoded data removed]",
            "text/plain": [
              "<Figure size 432x288 with 1 Axes>"
            ]
          },
          "metadata": {
            "tags": [],
            "needs_background": "light"
          }
        }
      ]
    },
    {
      "cell_type": "markdown",
      "metadata": {
        "id": "IuWfhZKKpfx9"
      },
      "source": [
        "### Coding Challenge 3: Create histograms for the absolute magnitude and color of your star cluster"
      ]
    },
    {
      "cell_type": "code",
      "metadata": {
        "colab": {
          "base_uri": "https://localhost:8080/",
          "height": 295
        },
        "id": "1uOX064Vpfx9",
        "outputId": "a95937ca-0316-403b-cfc2-2ac3af38eded"
      },
      "source": [
        "plt.hist(absMag)\n",
        "plt.title(\"distribution of absolute magnitude\")\n",
        "plt.xlabel(\"absolute magnitude\")\n",
        "plt.ylabel(\"number of stars\")\n",
        "plt.show()"
      ],
      "execution_count": null,
      "outputs": [
        {
          "output_type": "display_data",
          "data": {
            "image/png": "[encoded data removed]",
            "text/plain": [
              "<Figure size 432x288 with 1 Axes>"
            ]
          },
          "metadata": {
            "tags": [],
            "needs_background": "light"
          }
        }
      ]
    },
    {
      "cell_type": "code",
      "metadata": {
        "colab": {
          "base_uri": "https://localhost:8080/",
          "height": 295
        },
        "id": "W1nzQqq268A2",
        "outputId": "0e5f9085-aa03-4142-d7e3-85d011791f37"
      },
      "source": [
        "plt.hist(color)\n",
        "plt.title(\"distribution of color of star cluster\")\n",
        "plt.xlabel(\"color\")\n",
        "plt.ylabel(\"number of stars\")\n",
        "plt.show()"
      ],
      "execution_count": null,
      "outputs": [
        {
          "output_type": "display_data",
          "data": {
            "image/png": "[encoded data removed]",
            "text/plain": [
              "<Figure size 432x288 with 1 Axes>"
            ]
          },
          "metadata": {
            "tags": [],
            "needs_background": "light"
          }
        }
      ]
    },
    {
      "cell_type": "markdown",
      "metadata": {
        "id": "pJ7E71nvjpA0"
      },
      "source": [
        "## 🟢Mini Project (Bonus): The Cultural-Societal Impact of the Lack of Access to Home Broadband\n",
        "\n",
        "Electromagnetic waves that have wavelengths that are larger than 1mm in length are typically called radio waves. These wavelengths are used for communication between mobile phones, radio stations, Bluetooth devices, and of course radio stations.\n",
        "\n",
        "Radio astronomers developed an understanding of radio waves, which provided huge advantage for the development of the high-speed WI-FI standard. In the early 1990’s, WI-FI speed was limited by errors created from the signal bouncing and echoing off walls and objects of a room. This problem was made worse when a lot of information was sent across a single pure tone (single frequency) sine-like radio waves, limiting the possible data WI-FI data rate. However, it was found that by spreading the load of information across the radio band, the echo was reduced. It was not until the mid 2000s that this standard had become main-stream in WI-FI technology.\n",
        "\n",
        "\n",
        "In modern times, Wi-Fi is crucial to everyday activities whether it be work, school, or retail. But, who has access to Wi-Fi and who doesn't? Create a dataframe using the following access-based-on-income vs. time data, and create a scatter plot that visualizes how they compare.\n",
        "\n",
        "Source: https://www.pewresearch.org/internet/fact-sheet/internet-broadband/?menuItem=2ab2b0be-6364-4d3a-8db7-ae134dbc05cd"
      ]
    },
    {
      "cell_type": "code",
      "metadata": {
        "id": "AmnjOzmmjpA1"
      },
      "source": [
        "#Import necessary libraries"
      ],
      "execution_count": null,
      "outputs": []
    },
    {
      "cell_type": "code",
      "metadata": {
        "id": "K39Gq4rxjpA1"
      },
      "source": [
        "#Read in data."
      ],
      "execution_count": null,
      "outputs": []
    },
    {
      "cell_type": "code",
      "metadata": {
        "id": "Doauork8jpA2"
      },
      "source": [
        "#Store column data in variables."
      ],
      "execution_count": null,
      "outputs": []
    },
    {
      "cell_type": "code",
      "metadata": {
        "id": "WP5TtlZpjpA3"
      },
      "source": [
        "#Plot information\n"
      ],
      "execution_count": null,
      "outputs": []
    },
    {
      "cell_type": "markdown",
      "metadata": {
        "id": "A2H_q_BkjpA3"
      },
      "source": [
        "In your presentation, share your created visualizations above and your answers to the following questions along with any thoughts you have about the mini project.\n",
        "\n",
        "Answer the following questions:\n",
        "\n",
        "1. What income group of households has the greatest access to internet? The smallest?\n",
        "\n",
        "2. True or False: Equality exists because everyone has the opportunity to pay for internet access in their household. <br> Explain your thoughts.\n",
        "\n",
        "3. What are some ways that we can use our computer science skills to boost access of lower-income households to a stable high-speed internet connection?"
      ]
    },
    {
      "cell_type": "code",
      "metadata": {
        "id": "kRdgBdyQjpA4"
      },
      "source": [
        ""
      ],
      "execution_count": null,
      "outputs": []
    }
  ]
}